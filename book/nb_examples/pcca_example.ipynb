{
 "cells": [
  {
   "cell_type": "markdown",
   "id": "22e09ec5",
   "metadata": {},
   "source": [
    "# Genetic diseases alter liver metabolism (From Chapter 11)\n",
    "Inborn errors in metabolic genes can cause metabolic conditions that affect the body's ability to properly process certain nutrients or substances. These conditions can have a wide range of metabolic consequences, including changes in energy metabolism, nutrient utilization, and hormone regulation. Since the activity of multiple genes that are commonly impacted by inborn errors of metabolism are included in CoreLiver, we can systematically assess the impact of such disorders on the liver metabolic network.\n",
    "\n",
    "**Propionic acidemia** Propionic acidemia is caused by mutations in the genes that encode propionyl-CoA carboxylase (PPCOACm), which is a mitochondrial enzyme that converts Propinoyl-CoA (ppcoa) into (S)-Methyl\\-malonyl-CoA (mmcoa\\_\\_S). Using the model we can ask how removing the function of this enzyme may change the ability of the liver to metabolize certain nutrients. This can simply be done by restricting all flux through PPCOACm and optimizing ATP production using each possible media metabolite as the sole nutrient source. This analysis shows that, without PPCOACm, the model cannot generate ATP from L-isoleucine (iso\\_\\_L), Propionic Acid (ppa), or L-methionine (met\\_\\_L). It is known that those with propionic acidemia cannot metabolize L-valine, L-isoleucine, L-threonine, L-methionine, and odd-chained fatty acids. CoreLiver modeling results accurately reflect these metabolic limitations in {numref}`propionic_acidemia`.\n",
    "\n",
    "```{figure} ../images/pcca_disease.png\n",
    "---\n",
    "height: 500px\n",
    "name: propionic_acidemia\n",
    "---\n",
    "ATP yield of common substrates with and without Propionyl-CoA carboxylase (PPCOACm)\n",
    "\n",
    "```\n",
    "\n",
    "```{note}\n",
    "Use the launch buttons in the top right to regenerate the plot here (using Live Code) or open in a Binder\n",
    "```"
   ]
  },
  {
   "cell_type": "code",
   "execution_count": null,
   "id": "5c8cbe4a",
   "metadata": {
    "tags": [
     "hide-input"
    ]
   },
   "outputs": [],
   "source": [
    "import pandas as pd\n",
    "import cobra\n",
    "import seaborn as sns\n",
    "from matplotlib import pyplot as plt\n",
    "import math\n",
    "from pathlib import Path\n",
    "\n",
    "media = ['EX_lac__L_c', 'EX_pyr_c', 'EX_octa_c', 'EX_gln__L_c', 'EX_bhb_c',\n",
    "             'EX_glu__L_c', 'EX_ser__L_c', 'EX_cys__L_c', 'EX_gly_c', 'EX_ala__L_c',\n",
    "            'EX_etoh_c', 'EX_fru_c', 'EX_glc__D_c', 'EX_arg__L_c', 'EX_pro__L_c', 'EX_ile__L_c', 'EX_leu__L_c',\n",
    "        'EX_asp__L_c', 'EX_asn__L_c', 'EX_ppa_c', 'EX_atp_c', 'EX_utp_c', 'EX_met__L_c',\n",
    "         'EX_glyc_3octa_c', 'EX_glyc_c']\n",
    "\n",
    "# ---------------------------------------\n",
    "# Simulation: Run model for each media under both conditions\n",
    "# ---------------------------------------\n",
    "fluxes_with = {}\n",
    "fluxes_without = {}\n",
    "summary = []\n",
    "\n",
    "model = cobra.io.load_json_model(list(Path('..').rglob('core_model.json'))[0])\n",
    "model.reactions.EX_glc__D_c.knock_out()\n",
    "\n",
    "for m in media:\n",
    "    if m in model.reactions:\n",
    "        # With PCCA:\n",
    "        with model:\n",
    "            model.reactions.get_by_id(m).lower_bound = -1\n",
    "            sol = model.optimize()\n",
    "            fluxes_with[m] = sol.fluxes.copy()\n",
    "            summary.append(dict(media=m, atp=sol.objective_value, condition='with PCCA'))\n",
    "        # Without PCCA:\n",
    "        with model:\n",
    "            model.reactions.get_by_id(m).lower_bound = -1\n",
    "            model.reactions.PPCOACm.knock_out()\n",
    "            sol = model.optimize()\n",
    "            fluxes_without[m] = sol.fluxes.copy()\n",
    "            summary.append(dict(media=m, atp=sol.objective_value, condition='without PCCA'))\n",
    "\n",
    "# Create a DataFrame summary for the bar plot\n",
    "fig, ax = plt.subplots(figsize=(10, 5))\n",
    "ax = sns.barplot(data=pd.DataFrame(summary).sort_values('atp'), x='media', y='atp', hue='condition', ax=ax)\n",
    "ax.tick_params(labelsize=15)\n",
    "ax.tick_params(rotation=90, axis='x')\n",
    "ax.set_ylabel(r'ATP synthesis ($\\frac{mmol}{gDW \\cdot hr}$)', size=20)\n",
    "ax.set_xlabel('Nutrient', size=20)\n",
    "ax.set_title('ATP synthesis with and without PCCA')\n",
    "_ = ax.legend(title='Condition', title_fontsize=15, fontsize=15)"
   ]
  },
  {
   "cell_type": "markdown",
   "id": "674cf594",
   "metadata": {},
   "source": [
    "```{note}\n",
    "Use the launch buttons in the top right to observe CoreLiver flux solutions for various nutrient sources with and without PCCA enzyme activity\n",
    "```"
   ]
  },
  {
   "cell_type": "code",
   "execution_count": 1,
   "id": "70b92752",
   "metadata": {
    "tags": [
     "hide-input"
    ]
   },
   "outputs": [
    {
     "ename": "AttributeError",
     "evalue": "module 'numpy' has no attribute 'float'.\n`np.float` was a deprecated alias for the builtin `float`. To avoid this error in existing code, use `float` by itself. Doing this will not modify any behavior and is safe. If you specifically wanted the numpy scalar type, use `np.float64` here.\nThe aliases was originally deprecated in NumPy 1.20; for more details and guidance see the original release note at:\n    https://numpy.org/devdocs/release/1.20.0-notes.html#deprecations",
     "output_type": "error",
     "traceback": [
      "\u001b[0;31m---------------------------------------------------------------------------\u001b[0m",
      "\u001b[0;31mAttributeError\u001b[0m                            Traceback (most recent call last)",
      "Cell \u001b[0;32mIn[1], line 4\u001b[0m\n\u001b[1;32m      2\u001b[0m \u001b[38;5;28;01mfrom\u001b[39;00m \u001b[38;5;21;01mIPython\u001b[39;00m\u001b[38;5;21;01m.\u001b[39;00m\u001b[38;5;21;01mdisplay\u001b[39;00m \u001b[38;5;28;01mimport\u001b[39;00m display\n\u001b[1;32m      3\u001b[0m \u001b[38;5;28;01mimport\u001b[39;00m \u001b[38;5;21;01mpandas\u001b[39;00m \u001b[38;5;28;01mas\u001b[39;00m \u001b[38;5;21;01mpd\u001b[39;00m\n\u001b[0;32m----> 4\u001b[0m \u001b[38;5;28;01mimport\u001b[39;00m \u001b[38;5;21;01mcobra\u001b[39;00m\n\u001b[1;32m      5\u001b[0m \u001b[38;5;28;01mfrom\u001b[39;00m \u001b[38;5;21;01mescher\u001b[39;00m \u001b[38;5;28;01mimport\u001b[39;00m Builder\n\u001b[1;32m      6\u001b[0m \u001b[38;5;28;01mimport\u001b[39;00m \u001b[38;5;21;01mseaborn\u001b[39;00m \u001b[38;5;28;01mas\u001b[39;00m \u001b[38;5;21;01msns\u001b[39;00m\n",
      "File \u001b[0;32m~/.virtualenvs/everything/lib/python3.9/site-packages/cobra/__init__.py:17\u001b[0m\n\u001b[1;32m      5\u001b[0m \u001b[38;5;28;01mfrom\u001b[39;00m \u001b[38;5;21;01mcobra\u001b[39;00m\u001b[38;5;21;01m.\u001b[39;00m\u001b[38;5;21;01mcore\u001b[39;00m \u001b[38;5;28;01mimport\u001b[39;00m (\n\u001b[1;32m      6\u001b[0m     Configuration,\n\u001b[1;32m      7\u001b[0m     DictList,\n\u001b[0;32m   (...)\u001b[0m\n\u001b[1;32m     14\u001b[0m     Species,\n\u001b[1;32m     15\u001b[0m )\n\u001b[1;32m     16\u001b[0m \u001b[38;5;28;01mfrom\u001b[39;00m \u001b[38;5;21;01mcobra\u001b[39;00m \u001b[38;5;28;01mimport\u001b[39;00m flux_analysis\n\u001b[0;32m---> 17\u001b[0m \u001b[38;5;28;01mfrom\u001b[39;00m \u001b[38;5;21;01mcobra\u001b[39;00m \u001b[38;5;28;01mimport\u001b[39;00m io\n\u001b[1;32m     18\u001b[0m \u001b[38;5;28;01mfrom\u001b[39;00m \u001b[38;5;21;01mcobra\u001b[39;00m \u001b[38;5;28;01mimport\u001b[39;00m medium\n\u001b[1;32m     19\u001b[0m \u001b[38;5;28;01mfrom\u001b[39;00m \u001b[38;5;21;01mcobra\u001b[39;00m \u001b[38;5;28;01mimport\u001b[39;00m sampling\n",
      "File \u001b[0;32m~/.virtualenvs/everything/lib/python3.9/site-packages/cobra/io/__init__.py:4\u001b[0m\n\u001b[1;32m      1\u001b[0m \u001b[38;5;124;03m\"\"\"Provide functions for loading and saving metabolic models.\"\"\"\u001b[39;00m\n\u001b[0;32m----> 4\u001b[0m \u001b[38;5;28;01mfrom\u001b[39;00m \u001b[38;5;21;01mcobra\u001b[39;00m\u001b[38;5;21;01m.\u001b[39;00m\u001b[38;5;21;01mio\u001b[39;00m\u001b[38;5;21;01m.\u001b[39;00m\u001b[38;5;21;01mdict\u001b[39;00m \u001b[38;5;28;01mimport\u001b[39;00m model_from_dict, model_to_dict\n\u001b[1;32m      5\u001b[0m \u001b[38;5;28;01mfrom\u001b[39;00m \u001b[38;5;21;01mcobra\u001b[39;00m\u001b[38;5;21;01m.\u001b[39;00m\u001b[38;5;21;01mio\u001b[39;00m\u001b[38;5;21;01m.\u001b[39;00m\u001b[38;5;21;01mjson\u001b[39;00m \u001b[38;5;28;01mimport\u001b[39;00m from_json, load_json_model, save_json_model, to_json\n\u001b[1;32m      6\u001b[0m \u001b[38;5;28;01mfrom\u001b[39;00m \u001b[38;5;21;01mcobra\u001b[39;00m\u001b[38;5;21;01m.\u001b[39;00m\u001b[38;5;21;01mio\u001b[39;00m\u001b[38;5;21;01m.\u001b[39;00m\u001b[38;5;21;01mmat\u001b[39;00m \u001b[38;5;28;01mimport\u001b[39;00m load_matlab_model, save_matlab_model\n",
      "File \u001b[0;32m~/.virtualenvs/everything/lib/python3.9/site-packages/cobra/io/dict.py:71\u001b[0m\n\u001b[1;32m     60\u001b[0m _ORDERED_OPTIONAL_MODEL_KEYS \u001b[38;5;241m=\u001b[39m [\u001b[38;5;124m\"\u001b[39m\u001b[38;5;124mname\u001b[39m\u001b[38;5;124m\"\u001b[39m, \u001b[38;5;124m\"\u001b[39m\u001b[38;5;124mcompartments\u001b[39m\u001b[38;5;124m\"\u001b[39m, \u001b[38;5;124m\"\u001b[39m\u001b[38;5;124mnotes\u001b[39m\u001b[38;5;124m\"\u001b[39m, \u001b[38;5;124m\"\u001b[39m\u001b[38;5;124mannotation\u001b[39m\u001b[38;5;124m\"\u001b[39m]\n\u001b[1;32m     61\u001b[0m _OPTIONAL_MODEL_ATTRIBUTES \u001b[38;5;241m=\u001b[39m {\n\u001b[1;32m     62\u001b[0m     \u001b[38;5;124m\"\u001b[39m\u001b[38;5;124mname\u001b[39m\u001b[38;5;124m\"\u001b[39m: \u001b[38;5;28;01mNone\u001b[39;00m,\n\u001b[1;32m     63\u001b[0m     \u001b[38;5;66;03m#  \"description\": None, should not actually be included\u001b[39;00m\n\u001b[0;32m   (...)\u001b[0m\n\u001b[1;32m     66\u001b[0m     \u001b[38;5;124m\"\u001b[39m\u001b[38;5;124mannotation\u001b[39m\u001b[38;5;124m\"\u001b[39m: {},\n\u001b[1;32m     67\u001b[0m }\n\u001b[1;32m     70\u001b[0m \u001b[38;5;28;01mdef\u001b[39;00m \u001b[38;5;21m_fix_type\u001b[39m(\n\u001b[0;32m---> 71\u001b[0m     value: Union[\u001b[38;5;28mstr\u001b[39m, \u001b[43mnp\u001b[49m\u001b[38;5;241;43m.\u001b[39;49m\u001b[43mfloat\u001b[49m, np\u001b[38;5;241m.\u001b[39mbool, Set, Dict]\n\u001b[1;32m     72\u001b[0m ) \u001b[38;5;241m-\u001b[39m\u001b[38;5;241m>\u001b[39m Union[\u001b[38;5;28mstr\u001b[39m, \u001b[38;5;28mfloat\u001b[39m, \u001b[38;5;28mbool\u001b[39m, List, OrderedDict]:\n\u001b[1;32m     73\u001b[0m \u001b[38;5;250m    \u001b[39m\u001b[38;5;124;03m\"\"\"Convert possible types to correct Python types.\u001b[39;00m\n\u001b[1;32m     74\u001b[0m \n\u001b[1;32m     75\u001b[0m \u001b[38;5;124;03m    Parameters\u001b[39;00m\n\u001b[0;32m   (...)\u001b[0m\n\u001b[1;32m     84\u001b[0m \n\u001b[1;32m     85\u001b[0m \u001b[38;5;124;03m    \"\"\"\u001b[39;00m\n\u001b[1;32m     86\u001b[0m     \u001b[38;5;66;03m# Because numpy floats can not be pickled to json\u001b[39;00m\n",
      "File \u001b[0;32m~/.virtualenvs/everything/lib/python3.9/site-packages/numpy/__init__.py:394\u001b[0m, in \u001b[0;36m__getattr__\u001b[0;34m(attr)\u001b[0m\n\u001b[1;32m    389\u001b[0m     warnings\u001b[38;5;241m.\u001b[39mwarn(\n\u001b[1;32m    390\u001b[0m         \u001b[38;5;124mf\u001b[39m\u001b[38;5;124m\"\u001b[39m\u001b[38;5;124mIn the future `np.\u001b[39m\u001b[38;5;132;01m{\u001b[39;00mattr\u001b[38;5;132;01m}\u001b[39;00m\u001b[38;5;124m` will be defined as the \u001b[39m\u001b[38;5;124m\"\u001b[39m\n\u001b[1;32m    391\u001b[0m         \u001b[38;5;124m\"\u001b[39m\u001b[38;5;124mcorresponding NumPy scalar.\u001b[39m\u001b[38;5;124m\"\u001b[39m, \u001b[38;5;167;01mFutureWarning\u001b[39;00m, stacklevel\u001b[38;5;241m=\u001b[39m\u001b[38;5;241m2\u001b[39m)\n\u001b[1;32m    393\u001b[0m \u001b[38;5;28;01mif\u001b[39;00m attr \u001b[38;5;129;01min\u001b[39;00m __former_attrs__:\n\u001b[0;32m--> 394\u001b[0m     \u001b[38;5;28;01mraise\u001b[39;00m \u001b[38;5;167;01mAttributeError\u001b[39;00m(__former_attrs__[attr])\n\u001b[1;32m    396\u001b[0m \u001b[38;5;28;01mif\u001b[39;00m attr \u001b[38;5;129;01min\u001b[39;00m __expired_attributes__:\n\u001b[1;32m    397\u001b[0m     \u001b[38;5;28;01mraise\u001b[39;00m \u001b[38;5;167;01mAttributeError\u001b[39;00m(\n\u001b[1;32m    398\u001b[0m         \u001b[38;5;124mf\u001b[39m\u001b[38;5;124m\"\u001b[39m\u001b[38;5;124m`np.\u001b[39m\u001b[38;5;132;01m{\u001b[39;00mattr\u001b[38;5;132;01m}\u001b[39;00m\u001b[38;5;124m` was removed in the NumPy 2.0 release. \u001b[39m\u001b[38;5;124m\"\u001b[39m\n\u001b[1;32m    399\u001b[0m         \u001b[38;5;124mf\u001b[39m\u001b[38;5;124m\"\u001b[39m\u001b[38;5;132;01m{\u001b[39;00m__expired_attributes__[attr]\u001b[38;5;132;01m}\u001b[39;00m\u001b[38;5;124m\"\u001b[39m\n\u001b[1;32m    400\u001b[0m     )\n",
      "\u001b[0;31mAttributeError\u001b[0m: module 'numpy' has no attribute 'float'.\n`np.float` was a deprecated alias for the builtin `float`. To avoid this error in existing code, use `float` by itself. Doing this will not modify any behavior and is safe. If you specifically wanted the numpy scalar type, use `np.float64` here.\nThe aliases was originally deprecated in NumPy 1.20; for more details and guidance see the original release note at:\n    https://numpy.org/devdocs/release/1.20.0-notes.html#deprecations"
     ]
    }
   ],
   "source": [
    "from ipywidgets import Dropdown, RadioButtons, VBox, Output\n",
    "from IPython.display import display\n",
    "import pandas as pd\n",
    "import cobra\n",
    "from escher import Builder\n",
    "import seaborn as sns\n",
    "from matplotlib import pyplot as plt\n",
    "import math\n",
    "from pathlib import Path\n",
    "\n",
    "# ---------------------------------------\n",
    "# Escher Map: Create an Escher Builder for flux visualization\n",
    "# ---------------------------------------\n",
    "default_media = 'EX_glc__D_c'\n",
    "map_json_loc = str(list(Path('..').rglob('core_map_v30.json'))[0])\n",
    "builder = Builder(map_json=map_json_loc, \n",
    "                  reaction_data=fluxes_with[default_media])\n",
    "\n",
    "builder.reaction_scale = [\n",
    "    {'type': 'value', 'color': 'red', 'size': 20, 'value': -0.01},\n",
    "    {'type': 'value', 'color': 'grey', 'size': 0, 'value': 0},\n",
    "    {'type': 'value', 'color': 'red', 'size': 20, 'value': 0.01}\n",
    "]\n",
    "\n",
    "escher_out = Output()\n",
    "with escher_out:\n",
    "    display(builder)\n",
    "\n",
    "# ---------------------------------------\n",
    "# ipywidgets for interactive toggling\n",
    "# ---------------------------------------\n",
    "condition_widget = RadioButtons(options=['with PCCA', 'without PCCA'],\n",
    "                                value='with PCCA', description='Condition:')\n",
    "media_widget = Dropdown(options=sorted(list(fluxes_with.keys())),\n",
    "                        value='EX_glc__D_c', description='Media:')\n",
    "\n",
    "def update_outputs(change):\n",
    "    # Get current selections\n",
    "    cond = condition_widget.value\n",
    "    med = media_widget.value\n",
    "\n",
    "    # --- Update Escher map ---\n",
    "    flux_data = fluxes_with[med] if cond == 'with PCCA' else fluxes_without[med]\n",
    "    builder.reaction_data = flux_data\n",
    "\n",
    "\n",
    "# Attach the update function to both widgets\n",
    "condition_widget.observe(update_outputs, names='value')\n",
    "media_widget.observe(update_outputs, names='value')\n",
    "\n",
    "# ---------------------------------------\n",
    "# Display all interactive elements in the notebook\n",
    "# ---------------------------------------\n",
    "ui = VBox([condition_widget, media_widget])\n",
    "display(ui)\n",
    "escher_out"
   ]
  },
  {
   "cell_type": "code",
   "execution_count": null,
   "id": "5bb2aafd",
   "metadata": {},
   "outputs": [],
   "source": []
  }
 ],
 "metadata": {
  "celltoolbar": "Tags",
  "kernelspec": {
   "display_name": "Python 3 (ipykernel)",
   "language": "python",
   "name": "python3"
  },
  "language_info": {
   "codemirror_mode": {
    "name": "ipython",
    "version": 3
   },
   "file_extension": ".py",
   "mimetype": "text/x-python",
   "name": "python",
   "nbconvert_exporter": "python",
   "pygments_lexer": "ipython3",
   "version": "3.9.21"
  }
 },
 "nbformat": 4,
 "nbformat_minor": 5
}
