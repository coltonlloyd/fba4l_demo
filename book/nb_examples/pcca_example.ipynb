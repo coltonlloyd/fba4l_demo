{
 "cells": [
  {
   "cell_type": "markdown",
   "id": "22e09ec5",
   "metadata": {},
   "source": [
    "# Genetic diseases alter liver metabolism (From Chapter 11)\n",
    "Inborn errors in metabolic genes can cause metabolic conditions that affect the body's ability to properly process certain nutrients or substances. These conditions can have a wide range of metabolic consequences, including changes in energy metabolism, nutrient utilization, and hormone regulation. Since the activity of multiple genes that are commonly impacted by inborn errors of metabolism are included in CoreLiver, we can systematically assess the impact of such disorders on the liver metabolic network.\n",
    "\n",
    "**Propionic acidemia** Propionic acidemia is caused by mutations in the genes that encode propionyl-CoA carboxylase (PPCOACm), which is a mitochondrial enzyme that converts Propinoyl-CoA (ppcoa) into (S)-Methyl\\-malonyl-CoA (mmcoa\\_\\_S). Using the model we can ask how removing the function of this enzyme may change the ability of the liver to metabolize certain nutrients. This can simply be done by restricting all flux through PPCOACm and optimizing ATP production using each possible media metabolite as the sole nutrient source. This analysis shows that, without PPCOACm, the model cannot generate ATP from L-isoleucine (iso\\_\\_L), Propionic Acid (ppa), or L-methionine (met\\_\\_L). It is known that those with propionic acidemia cannot metabolize L-valine, L-isoleucine, L-threonine, L-methionine, and odd-chained fatty acids. CoreLiver modeling results accurately reflect these metabolic limitations in {numref}`propionic_acidemia`.\n",
    "\n",
    "```{figure} ../images/pcca_disease.png\n",
    "---\n",
    "height: 500px\n",
    "name: propionic_acidemia\n",
    "---\n",
    "ATP yield of common substrates with and without Propionyl-CoA carboxylase (PPCOACm)\n",
    "\n",
    "```\n",
    "\n",
    "```{note}\n",
    "Use the launch buttons in the top right to regenerate the plot here (using Live Code) or open in a Binder\n",
    "```"
   ]
  },
  {
   "cell_type": "code",
   "execution_count": null,
   "id": "d27db85d",
   "metadata": {
    "scrolled": false,
    "tags": [
     "hide-input"
    ]
   },
   "outputs": [],
   "source": [
    "import pandas as pd\n",
    "import cobra\n",
    "import seaborn as sns\n",
    "from matplotlib import pyplot as plt\n",
    "import math\n",
    "from pathlib import Path\n",
    "\n",
    "media = ['EX_lac__L_c', 'EX_pyr_c', 'EX_octa_c', 'EX_gln__L_c', 'EX_bhb_c',\n",
    "             'EX_glu__L_c', 'EX_ser__L_c', 'EX_cys__L_c', 'EX_gly_c', 'EX_ala__L_c',\n",
    "            'EX_etoh_c', 'EX_fru_c', 'EX_glc__D_c', 'EX_arg__L_c', 'EX_pro__L_c', 'EX_ile__L_c', 'EX_leu__L_c',\n",
    "        'EX_asp__L_c', 'EX_asn__L_c', 'EX_ppa_c', 'EX_atp_c', 'EX_utp_c', 'EX_met__L_c',\n",
    "         'EX_glyc_3octa_c', 'EX_glyc_c']\n",
    "\n",
    "# ---------------------------------------\n",
    "# Simulation: Run model for each media under both conditions\n",
    "# ---------------------------------------\n",
    "fluxes_with = {}\n",
    "fluxes_without = {}\n",
    "summary = []\n",
    "\n",
    "model = cobra.io.load_json_model(list(Path('..').rglob('core_model.json'))[0])\n",
    "model.reactions.EX_glc__D_c.knock_out()\n",
    "\n",
    "for m in media:\n",
    "    if m in model.reactions:\n",
    "        # With PCCA:\n",
    "        with model:\n",
    "            model.reactions.get_by_id(m).lower_bound = -1\n",
    "            sol = model.optimize()\n",
    "            fluxes_with[m] = sol.fluxes.copy()\n",
    "            summary.append(dict(media=m, atp=sol.objective_value, condition='with PCCA'))\n",
    "        # Without PCCA:\n",
    "        with model:\n",
    "            model.reactions.get_by_id(m).lower_bound = -1\n",
    "            model.reactions.PPCOACm.knock_out()\n",
    "            sol = model.optimize()\n",
    "            fluxes_without[m] = sol.fluxes.copy()\n",
    "            summary.append(dict(media=m, atp=sol.objective_value, condition='without PCCA'))\n",
    "\n",
    "# Create a DataFrame summary for the bar plot\n",
    "fig, ax = plt.subplots(figsize=(10, 5))\n",
    "ax = sns.barplot(data=pd.DataFrame(summary).sort_values('atp'), x='media', y='atp', hue='condition', ax=ax)\n",
    "ax.tick_params(labelsize=15)\n",
    "ax.tick_params(rotation=90, axis='x')\n",
    "ax.set_ylabel(r'ATP synthesis ($\\frac{mmol}{gDW \\cdot hr}$)', size=20)\n",
    "ax.set_xlabel('Nutrient', size=20)\n",
    "ax.set_title('ATP synthesis with and without PCCA')\n",
    "ax.legend(title='Condition', title_fontsize=15, fontsize=15)"
   ]
  },
  {
   "cell_type": "code",
   "execution_count": 2,
   "id": "70b92752",
   "metadata": {
    "tags": [
     "hide-input"
    ]
   },
   "outputs": [
    {
     "data": {
      "application/vnd.jupyter.widget-view+json": {
       "model_id": "762d62b0970b47f693dd8b7f08b7d3dd",
       "version_major": 2,
       "version_minor": 0
      },
      "text/plain": [
       "VBox(children=(RadioButtons(description='Condition:', options=('with PCCA', 'without PCCA'), value='with PCCA'…"
      ]
     },
     "metadata": {},
     "output_type": "display_data"
    },
    {
     "data": {
      "application/vnd.jupyter.widget-view+json": {
       "model_id": "a651f72cbeff4e98b940273ae9d9bdc7",
       "version_major": 2,
       "version_minor": 0
      },
      "text/plain": [
       "Output()"
      ]
     },
     "metadata": {},
     "output_type": "display_data"
    }
   ],
   "source": [
    "from ipywidgets import Dropdown, RadioButtons, VBox, Output\n",
    "from IPython.display import display\n",
    "import pandas as pd\n",
    "import cobra\n",
    "from escher import Builder\n",
    "import seaborn as sns\n",
    "from matplotlib import pyplot as plt\n",
    "import math\n",
    "from pathlib import Path\n",
    "\n",
    "# ---------------------------------------\n",
    "# Escher Map: Create an Escher Builder for flux visualization\n",
    "# ---------------------------------------\n",
    "default_media = 'EX_glc__D_c'\n",
    "map_json_loc = str(list(Path('..').rglob('core_map_v30.json'))[0])\n",
    "builder = Builder(map_json=map_json_loc, \n",
    "                  reaction_data=fluxes_with[default_media])\n",
    "\n",
    "builder.reaction_scale = [\n",
    "    {'type': 'value', 'color': 'red', 'size': 20, 'value': -0.01},\n",
    "    {'type': 'value', 'color': 'grey', 'size': 0, 'value': 0},\n",
    "    {'type': 'value', 'color': 'red', 'size': 20, 'value': 0.01}\n",
    "]\n",
    "\n",
    "escher_out = Output()\n",
    "with escher_out:\n",
    "    display(builder)\n",
    "\n",
    "# ---------------------------------------\n",
    "# ipywidgets for interactive toggling\n",
    "# ---------------------------------------\n",
    "condition_widget = RadioButtons(options=['with PCCA', 'without PCCA'],\n",
    "                                value='with PCCA', description='Condition:')\n",
    "media_widget = Dropdown(options=sorted(list(fluxes_with.keys())),\n",
    "                        value='EX_glc__D_c', description='Media:')\n",
    "\n",
    "def update_outputs(change):\n",
    "    # Get current selections\n",
    "    cond = condition_widget.value\n",
    "    med = media_widget.value\n",
    "\n",
    "    # --- Update Escher map ---\n",
    "    flux_data = fluxes_with[med] if cond == 'with PCCA' else fluxes_without[med]\n",
    "    builder.reaction_data = flux_data\n",
    "\n",
    "\n",
    "# Attach the update function to both widgets\n",
    "condition_widget.observe(update_outputs, names='value')\n",
    "media_widget.observe(update_outputs, names='value')\n",
    "\n",
    "# ---------------------------------------\n",
    "# Display all interactive elements in the notebook\n",
    "# ---------------------------------------\n",
    "ui = VBox([condition_widget, media_widget])\n",
    "display(ui)\n",
    "escher_out"
   ]
  },
  {
   "cell_type": "code",
   "execution_count": null,
   "id": "2de42cb0",
   "metadata": {},
   "outputs": [],
   "source": []
  }
 ],
 "metadata": {
  "celltoolbar": "Tags",
  "kernelspec": {
   "display_name": "fba4l",
   "language": "python",
   "name": "fba4l"
  },
  "language_info": {
   "codemirror_mode": {
    "name": "ipython",
    "version": 3
   },
   "file_extension": ".py",
   "mimetype": "text/x-python",
   "name": "python",
   "nbconvert_exporter": "python",
   "pygments_lexer": "ipython3",
   "version": "3.9.21"
  }
 },
 "nbformat": 4,
 "nbformat_minor": 5
}
