{
 "cells": [
  {
   "cell_type": "markdown",
   "metadata": {},
   "source": [
    "# Simulate core energy metabolism\n",
    "\n",
    "Computationally assess the characteristics of a simple model of core energy metabolism that includes:\n",
    "\n",
    "1. Glycolysis\n",
    "2. Pentose phosphate pathway\n",
    "3. TCA Cycle\n",
    "4. Electron transport chain"
   ]
  },
  {
   "cell_type": "code",
   "execution_count": 1,
   "metadata": {},
   "outputs": [
    {
     "ename": "ModuleNotFoundError",
     "evalue": "No module named 'fba4l_course_material'",
     "output_type": "error",
     "traceback": [
      "\u001b[0;31m---------------------------------------------------------------------------\u001b[0m",
      "\u001b[0;31mModuleNotFoundError\u001b[0m                       Traceback (most recent call last)",
      "Cell \u001b[0;32mIn[1], line 8\u001b[0m\n\u001b[1;32m      6\u001b[0m \u001b[38;5;28;01mimport\u001b[39;00m \u001b[38;5;21;01mpandas\u001b[39;00m \u001b[38;5;28;01mas\u001b[39;00m \u001b[38;5;21;01mpd\u001b[39;00m\n\u001b[1;32m      7\u001b[0m \u001b[38;5;28;01mimport\u001b[39;00m \u001b[38;5;21;01mnumpy\u001b[39;00m \u001b[38;5;28;01mas\u001b[39;00m \u001b[38;5;21;01mnp\u001b[39;00m\n\u001b[0;32m----> 8\u001b[0m \u001b[38;5;28;01mfrom\u001b[39;00m \u001b[38;5;21;01mfba4l_course_material\u001b[39;00m \u001b[38;5;28;01mimport\u001b[39;00m resources\n\u001b[1;32m      9\u001b[0m \u001b[38;5;28;01mfrom\u001b[39;00m \u001b[38;5;21;01mos\u001b[39;00m\u001b[38;5;21;01m.\u001b[39;00m\u001b[38;5;21;01mpath\u001b[39;00m \u001b[38;5;28;01mimport\u001b[39;00m dirname, abspath\n\u001b[1;32m     11\u001b[0m resource_dir \u001b[38;5;241m=\u001b[39m \u001b[38;5;124m'\u001b[39m\u001b[38;5;124m../resources/\u001b[39m\u001b[38;5;124m'\u001b[39m\n",
      "\u001b[0;31mModuleNotFoundError\u001b[0m: No module named 'fba4l_course_material'"
     ]
    }
   ],
   "source": [
    "from __future__ import print_function\n",
    "import cobra\n",
    "from matplotlib import pyplot as plt\n",
    "\n",
    "import os\n",
    "import pandas as pd\n",
    "import numpy as np\n",
    "from fba4l_course_material import resources\n",
    "from os.path import dirname, abspath\n",
    "\n",
    "resource_dir = '../resources/'\n",
    "\n",
    "%matplotlib inline"
   ]
  },
  {
   "cell_type": "code",
   "execution_count": 3,
   "metadata": {},
   "outputs": [
    {
     "ename": "NameError",
     "evalue": "name 'resource_dir' is not defined",
     "output_type": "error",
     "traceback": [
      "\u001b[0;31m---------------------------------------------------------------------------\u001b[0m",
      "\u001b[0;31mNameError\u001b[0m                                 Traceback (most recent call last)",
      "Cell \u001b[0;32mIn[3], line 4\u001b[0m\n\u001b[1;32m      1\u001b[0m \u001b[38;5;28;01mimport\u001b[39;00m \u001b[38;5;21;01mescher\u001b[39;00m\n\u001b[1;32m      3\u001b[0m \u001b[38;5;66;03m# The reactions and metabolites to be added in this exercise\u001b[39;00m\n\u001b[0;32m----> 4\u001b[0m builder \u001b[38;5;241m=\u001b[39m escher\u001b[38;5;241m.\u001b[39mBuilder(map_json\u001b[38;5;241m=\u001b[39m\u001b[38;5;124m'\u001b[39m\u001b[38;5;132;01m%s\u001b[39;00m\u001b[38;5;124m/gly_ppp_tca_etc_map.json\u001b[39m\u001b[38;5;124m'\u001b[39m\u001b[38;5;241m%\u001b[39m \u001b[43mresource_dir\u001b[49m)\n\u001b[1;32m      5\u001b[0m display(builder)\n",
      "\u001b[0;31mNameError\u001b[0m: name 'resource_dir' is not defined"
     ]
    }
   ],
   "source": [
    "try:\n",
    "    import escher\n",
    "\n",
    "    # The reactions and metabolites to be added in this exercise\n",
    "    builder = escher.Builder(map_json='%s/gly_ppp_tca_etc_map.json'% resource_dir)\n",
    "    display(builder)\n",
    "except:\n",
    "    pass"
   ]
  },
  {
   "cell_type": "code",
   "execution_count": 3,
   "metadata": {},
   "outputs": [],
   "source": [
    "model_cons = cobra.io.load_json_model('%s/glycolysis_ppp_tca_etc_model.json' % resource_dir)"
   ]
  },
  {
   "cell_type": "markdown",
   "metadata": {},
   "source": [
    "## A) Revisiting old assumptions\n",
    "### 1) Set the objective to ATPM and optimize"
   ]
  },
  {
   "cell_type": "code",
   "execution_count": 4,
   "metadata": {},
   "outputs": [
    {
     "data": {
      "text/html": [
       "<strong><em>Optimal</em> solution with objective value 25.200</strong><br><div>\n",
       "<style scoped>\n",
       "    .dataframe tbody tr th:only-of-type {\n",
       "        vertical-align: middle;\n",
       "    }\n",
       "\n",
       "    .dataframe tbody tr th {\n",
       "        vertical-align: top;\n",
       "    }\n",
       "\n",
       "    .dataframe thead th {\n",
       "        text-align: right;\n",
       "    }\n",
       "</style>\n",
       "<table border=\"1\" class=\"dataframe\">\n",
       "  <thead>\n",
       "    <tr style=\"text-align: right;\">\n",
       "      <th></th>\n",
       "      <th>fluxes</th>\n",
       "      <th>reduced_costs</th>\n",
       "    </tr>\n",
       "  </thead>\n",
       "  <tbody>\n",
       "    <tr>\n",
       "      <th>NADH2_u10mi</th>\n",
       "      <td>1.000000e+01</td>\n",
       "      <td>1.243450e-14</td>\n",
       "    </tr>\n",
       "    <tr>\n",
       "      <th>FADH2ETC</th>\n",
       "      <td>2.000000e+00</td>\n",
       "      <td>-3.552714e-15</td>\n",
       "    </tr>\n",
       "    <tr>\n",
       "      <th>CYOR_u10mi</th>\n",
       "      <td>1.200000e+01</td>\n",
       "      <td>1.065814e-14</td>\n",
       "    </tr>\n",
       "    <tr>\n",
       "      <th>CYOOm2i</th>\n",
       "      <td>6.000000e+00</td>\n",
       "      <td>1.065814e-14</td>\n",
       "    </tr>\n",
       "    <tr>\n",
       "      <th>ATPS4mi</th>\n",
       "      <td>2.120000e+01</td>\n",
       "      <td>-1.065814e-14</td>\n",
       "    </tr>\n",
       "    <tr>\n",
       "      <th>...</th>\n",
       "      <td>...</td>\n",
       "      <td>...</td>\n",
       "    </tr>\n",
       "    <tr>\n",
       "      <th>GTHPi</th>\n",
       "      <td>0.000000e+00</td>\n",
       "      <td>-4.200000e+00</td>\n",
       "    </tr>\n",
       "    <tr>\n",
       "      <th>GTHOr</th>\n",
       "      <td>-3.108624e-15</td>\n",
       "      <td>-4.440892e-15</td>\n",
       "    </tr>\n",
       "    <tr>\n",
       "      <th>NADPHM</th>\n",
       "      <td>0.000000e+00</td>\n",
       "      <td>-4.200000e+00</td>\n",
       "    </tr>\n",
       "    <tr>\n",
       "      <th>EX_r5p_c</th>\n",
       "      <td>0.000000e+00</td>\n",
       "      <td>-4.400000e+01</td>\n",
       "    </tr>\n",
       "    <tr>\n",
       "      <th>EX_o2s_c</th>\n",
       "      <td>0.000000e+00</td>\n",
       "      <td>5.329071e-15</td>\n",
       "    </tr>\n",
       "  </tbody>\n",
       "</table>\n",
       "<p>69 rows × 2 columns</p>\n",
       "</div>"
      ],
      "text/plain": [
       "<Solution 25.200 at 0x14288c460>"
      ]
     },
     "execution_count": 4,
     "metadata": {},
     "output_type": "execute_result"
    }
   ],
   "source": [
    "model_cons.objective = 'ATPM'\n",
    "model_cons.optimize()"
   ]
  },
  {
   "cell_type": "markdown",
   "metadata": {},
   "source": [
    "### 2) Assess the cause of the decrease in ATP yield\n",
    "Using the glycolysis model and the `pyr_to_ATP` and `NADH_to_ATP` pseudo-reactions, the computed yield was 32 ATP per glucose\n",
    "\n",
    "Use the `h_i` metabolite's `summary` method to find the reactions producing and consumine the high energy protons"
   ]
  },
  {
   "cell_type": "code",
   "execution_count": 5,
   "metadata": {},
   "outputs": [
    {
     "data": {
      "text/html": [
       "<h3>h_i</h3><p>H</p><h4>Producing Reactions</h4><table border=\"1\" class=\"dataframe\">\n",
       "  <thead>\n",
       "    <tr style=\"text-align: right;\">\n",
       "      <th>Percent</th>\n",
       "      <th>Flux</th>\n",
       "      <th>Reaction</th>\n",
       "      <th>Definition</th>\n",
       "    </tr>\n",
       "  </thead>\n",
       "  <tbody>\n",
       "    <tr>\n",
       "      <td>21.43%</td>\n",
       "      <td>24</td>\n",
       "      <td>CYOOm2i</td>\n",
       "      <td>4.0 focytC_m + 8.0 h_m + o2_m --&gt; 4.0 ficytC_m + 2.0 h2o_m + 4.0 h_i</td>\n",
       "    </tr>\n",
       "    <tr>\n",
       "      <td>42.86%</td>\n",
       "      <td>48</td>\n",
       "      <td>CYOR_u10mi</td>\n",
       "      <td>2.0 ficytC_m + 2.0 h_m + q10h2_m --&gt; 2.0 focytC_m + 4.0 h_i + q10_m</td>\n",
       "    </tr>\n",
       "    <tr>\n",
       "      <td>35.71%</td>\n",
       "      <td>40</td>\n",
       "      <td>NADH2_u10mi</td>\n",
       "      <td>5.0 h_m + nadh_m + q10_m --&gt; 4.0 h_i + nad_m + q10h2_m</td>\n",
       "    </tr>\n",
       "  </tbody>\n",
       "</table><h4>Consuming Reactions</h4><table border=\"1\" class=\"dataframe\">\n",
       "  <thead>\n",
       "    <tr style=\"text-align: right;\">\n",
       "      <th>Percent</th>\n",
       "      <th>Flux</th>\n",
       "      <th>Reaction</th>\n",
       "      <th>Definition</th>\n",
       "    </tr>\n",
       "  </thead>\n",
       "  <tbody>\n",
       "    <tr>\n",
       "      <td>1.79%</td>\n",
       "      <td>-2</td>\n",
       "      <td>ASPGLUm</td>\n",
       "      <td>asp__L_m + glu__L_c + h_i --&gt; asp__L_c + glu__L_m + h_m</td>\n",
       "    </tr>\n",
       "    <tr>\n",
       "      <td>75.71%</td>\n",
       "      <td>-84.8</td>\n",
       "      <td>ATPS4mi</td>\n",
       "      <td>adp_m + 4.0 h_i + pi_m --&gt; atp_m + h2o_m + 3.0 h_m</td>\n",
       "    </tr>\n",
       "    <tr>\n",
       "      <td>20.71%</td>\n",
       "      <td>-23.2</td>\n",
       "      <td>PItm</td>\n",
       "      <td>h_i + pi_c --&gt; h_m + pi_m</td>\n",
       "    </tr>\n",
       "    <tr>\n",
       "      <td>1.79%</td>\n",
       "      <td>-2</td>\n",
       "      <td>PYRt2m</td>\n",
       "      <td>h_i + pyr_c --&gt; h_m + pyr_m</td>\n",
       "    </tr>\n",
       "  </tbody>\n",
       "</table>"
      ],
      "text/plain": [
       "<cobra.summary.metabolite_summary.MetaboliteSummary at 0x14288c910>"
      ]
     },
     "execution_count": 5,
     "metadata": {},
     "output_type": "execute_result"
    }
   ],
   "source": [
    "model_cons.metabolites.h_i.summary()"
   ]
  },
  {
   "cell_type": "markdown",
   "metadata": {},
   "source": [
    "## B) Modeling alternative pathways\n",
    "\n",
    "### 1) Characterize the consequence of the two \"extreme\" fates for glucose 6 phosphate\n",
    "\n",
    "Either all flux through upper glycolysis (PGI) or all flux through PPP (G6PDH2r)\n",
    "\n",
    "Knock out PGI and optimize for ATPM flux. Display the fluxes through the following reactions on a bar chart:\n",
    "\n",
    "| ID      | Interpretation \n",
    "| :-------------: |:-------------:|\n",
    "| ATPM | ATP production potential |\n",
    "| GTHOr | NADPH produced | \n",
    "| EX_h_c | Protons produced    | \n",
    "| EX_co2_c | CO$_2$ produced     | \n",
    "| EX_h2o_c | Water produced     | \n",
    "\n",
    "Repeat analysis with G6PDH2r knocked out"
   ]
  },
  {
   "cell_type": "code",
   "execution_count": 6,
   "metadata": {},
   "outputs": [
    {
     "data": {
      "text/plain": [
       "<AxesSubplot:>"
      ]
     },
     "execution_count": 6,
     "metadata": {},
     "output_type": "execute_result"
    },
    {
     "data": {
      "image/png": "[encoded data removed]",
      "text/plain": [
       "<Figure size 432x288 with 1 Axes>"
      ]
     },
     "metadata": {
      "needs_background": "light"
     },
     "output_type": "display_data"
    }
   ],
   "source": [
    "model = model_cons.copy()\n",
    "\n",
    "with model:\n",
    "    model.reactions.PGI.knock_out()\n",
    "    sol=model.optimize()\n",
    "    series1 = sol.fluxes[['ATPM', 'GTHOr', 'EX_h_c', 'EX_co2_c', 'EX_h2o_c']]\n",
    "    series1.name = 'G6PDH(Oxidative PPP)'\n",
    "\n",
    "with model:\n",
    "    model.reactions.G6PDH2r.knock_out()\n",
    "\n",
    "    sol = model.optimize()\n",
    "    series2 = sol.fluxes[['ATPM', 'GTHOr', 'EX_h_c', 'EX_co2_c', 'EX_h2o_c']]\n",
    "    series2.name = 'PGI(Upper Glycolysis)'\n",
    "\n",
    "df = pd.DataFrame([series1, series2])\n",
    "df.columns = ['ATP', 'NADPH', 'H+', 'CO2', 'H2O']\n",
    "df.abs().T.plot(kind='bar')"
   ]
  },
  {
   "cell_type": "markdown",
   "metadata": {},
   "source": [
    "### 2) Characterizing the solution space: Flux variability analysis (FVA)\n",
    "\n",
    "Maximize and minimize the flux through G6PDH2r and PGI for values of ATPM form 0 to the maximum values\n",
    " - **Note** minimization is performed by passing 'minimize' into `optimize` method\n",
    " \n",
    "Use the `plot_fva` to visualize results. Store the outpus in lists corresponding to those in `plot_fva`."
   ]
  },
  {
   "cell_type": "code",
   "execution_count": 7,
   "metadata": {},
   "outputs": [],
   "source": [
    "def plot_fva(atpm_values, max_g6pdh_values, max_pgi_values, min_g6pdh_values, min_pgi_values):\n",
    "    \"\"\"\n",
    "    Parameters\n",
    "    ----------\n",
    "    atpm_values : list\n",
    "        list of ATPM flux values from 0 to max\n",
    "        \n",
    "    max_g6pdh_values : list\n",
    "        list of maximum G6PDH2r flux values at the ATPM fluxes in atpm_values\n",
    "    max_pgi_values : list\n",
    "        list of maximum PGI flux values at the ATPM fluxes in atpm_values\n",
    "\n",
    "    min_g6pdh_values : list \n",
    "        list of minimum G6PDH2r flux values at the ATPM fluxes in atpm_values\n",
    "\n",
    "    min_pgi_values : list\n",
    "        list of minimum PGI flux values at the ATPM fluxes in atpm_values\n",
    "\n",
    "    \"\"\"\n",
    "    plt.fill_between(atpm_values, max_g6pdh_values, min_g6pdh_values, \n",
    "                     label='G6PDH(ppp)', alpha=.7)\n",
    "    plt.fill_between(atpm_values, max_pgi_values, min_pgi_values, \n",
    "                     label='PGI(glycolysis)', alpha=.7)\n",
    "    plt.legend()\n",
    "    plt.xlabel('ATPM flux')\n",
    "    plt.ylabel('Range of possible fluxes')"
   ]
  },
  {
   "cell_type": "code",
   "execution_count": 8,
   "metadata": {},
   "outputs": [
    {
     "data": {
      "image/png": "[encoded data removed]",
      "text/plain": [
       "<Figure size 432x288 with 1 Axes>"
      ]
     },
     "metadata": {
      "needs_background": "light"
     },
     "output_type": "display_data"
    }
   ],
   "source": [
    "combined = model_cons.copy()\n",
    "rxn = 'ATPM'\n",
    "var_rxn = 'G6PDH2r'\n",
    "var_rxn_2 = 'PGI'\n",
    "combined.objective = rxn\n",
    "obj = combined.optimize().objective_value\n",
    "bounds = np.linspace(0, obj, 10)\n",
    "lower = []\n",
    "upper = []\n",
    "lower_2 = []\n",
    "upper_2 = []\n",
    "for bound in bounds:\n",
    "    combined.reactions.get_by_id(rxn).bounds = (bound, bound)\n",
    "\n",
    "    combined.objective = var_rxn\n",
    "    lower.append(combined.optimize('minimize').objective_value)\n",
    "    upper.append(combined.optimize().objective_value)\n",
    "    combined.objective = var_rxn_2\n",
    "    upper_2.append(combined.optimize('minimize').objective_value)\n",
    "    lower_2.append(combined.optimize().objective_value)\n",
    "    \n",
    "    combined.reactions.get_by_id(rxn).lower_bound = 0\n",
    "\n",
    "\n",
    "plot_fva(bounds, upper, upper_2, lower, lower_2)"
   ]
  },
  {
   "cell_type": "markdown",
   "metadata": {},
   "source": [
    "### 3) Characterizing solution space (sampling)\n",
    "\n",
    "Use the `cobra.sampling` function to sample the model 1000 times.\n",
    "\n",
    "**Note**: this returns a dataframe. You can visualize the solutions with `df[['G6PDH2r', 'PGI']].hist()`"
   ]
  },
  {
   "cell_type": "code",
   "execution_count": 9,
   "metadata": {},
   "outputs": [
    {
     "data": {
      "text/plain": [
       "Text(0.5, 0, 'PGI flux')"
      ]
     },
     "execution_count": 9,
     "metadata": {},
     "output_type": "execute_result"
    },
    {
     "data": {
      "image/png": "[encoded data removed]",
      "text/plain": [
       "<Figure size 720x360 with 2 Axes>"
      ]
     },
     "metadata": {
      "needs_background": "light"
     },
     "output_type": "display_data"
    }
   ],
   "source": [
    "combined =model_cons.copy()\n",
    "df = cobra.sampling.sample(combined, 1000)\n",
    "\n",
    "fig, axes = plt.subplots(1, 2, figsize=(10, 5), sharey=True)\n",
    "ax = axes[0]\n",
    "df['G6PDH2r'].hist(ax=ax)\n",
    "ax.set_xlabel('G6PDH2r flux')\n",
    "ax.set_ylabel('Number of solutions')\n",
    "\n",
    "ax = axes[1]\n",
    "ax = df['PGI'].hist(ax=ax)\n",
    "ax.set_xlabel('PGI flux')"
   ]
  },
  {
   "cell_type": "markdown",
   "metadata": {},
   "source": [
    "## C) Characteristics of core energy metabolism\n",
    "### 1) Carbon yield of gluconeogenic substrats\n",
    "Assess the carbon yield and gluconeogenesis pathway used to generate g6p from each carbon containing metabolite\n",
    "\n",
    "**Approach**\n",
    "1. Add exchange reaction for g6p_c to use as the objective reaction\n",
    "  - Make sure the lower bound is set to 0 (i.e., g6p_c -> )\n",
    "\n",
    "2. Set glucose uptake to zero\n",
    "\n",
    "3. Iterate through all model metabolites\n",
    " - Skip those with no C molecules in formula\n",
    " - Can check for this using, for example, `model.metabolites.co2_c.elements.get('C', 0)`. This will return 0 if the metabolite does not contain any carbons\n",
    " \n",
    "4. Check for an existing exchange reaction for the metabolite. \n",
    " - If it does not not exist, add one\n",
    " - Set the lower bound of the exchange reaction to 1\n",
    "\n",
    "5. Set objective to EX_g6p_c and optimize\n",
    " - Use `cobra.flux_analysis.pfba` for optimization. This will return the most parsimonious solution (i.e., the sum of flux values in the model will be minimized)\n",
    "\n",
    "\n",
    "6. Calculate the carbon yield of g6p per substrate\n",
    " - Can return the number of carbons per mol of substrate using command above (i.e.,\n",
    " `mol_c_substrate = model.metabolites.co2_c.elements.get('C', 0)`)\n",
    " -  `carbon_yield_substrate = sol.fluxes['EX_g6p_c'] * 6 / mol_c_substrate`\n",
    " \n",
    "7. Compute the absolute value of the flux through two mitochondrial transporters: MALtm and PEPtm\n",
    " \n",
    "7. Save solution in a pandas `DataFrame` structured like below:\n",
    "\n",
    "| Met ID      | g6p yield | MALtm |PEPtm |\n",
    "| :-------------: |:-------------:|:-------------:| :-------------:|\n",
    "| glc__D_c |  | |  |\n",
    "| pep_c |  |   |  |\n",
    "| . |  |   |  |\n",
    "| . |  |   |  |\n",
    "\n",
    "9. Use `plot_carbon_yield` to visualize solution\n",
    "\n",
    "\n",
    "**Note:** make sure to either remove any newly added exchanges (or set the exchange to zero) before computing the yield for the next metabolite. You can also use the model as a context as described in https://cobrapy.readthedocs.io/en/latest/getting_started.html#Making-changes-reversibly-using-models-as-contexts "
   ]
  },
  {
   "cell_type": "code",
   "execution_count": 10,
   "metadata": {},
   "outputs": [],
   "source": [
    "def plot_carbon_yield(input_df):\n",
    "    \n",
    "    fig, ax = plt.subplots(1,1)\n",
    "    #glc_per_mol = glc_per_mol.rename({'glucose yield': r'G6P Yield ($\\mathrm{\\frac{mol\\ C_{G6P}}{mol\\ C_{precursor}}}$)'}, axis=1)\n",
    "    ax = glc_per_mol[['MALtm', 'PEPtm']].plot(kind='bar', figsize=(12.5, 5), ax=ax)\n",
    "    ax2_color = '#7c5395'\n",
    "    ax2= glc_per_mol['g6p yield'].plot(secondary_y=True, color=ax2_color, linewidth=5)\n",
    "    ax2.tick_params(axis='y', labelsize=15, labelcolor=ax2_color, color=ax2_color)\n",
    "    ax2.set_ylabel(r'G6P Yield ($\\mathrm{\\frac{mol\\ C_{G6P}}{mol\\ C_{precursor}}}$)', c=ax2_color, \n",
    "                   rotation=-90, fontsize=25,labelpad=55)\n",
    "    ax.set_ylabel(r'Transport Flux ($\\mathrm{\\frac{mmol}{L}}$)', fontsize=25)\n",
    "    ax.legend(fontsize=15, loc='center right')\n",
    "    ax.set_xticklabels(ax.get_xticklabels(), rotation=45, ha='right', fontdict={'size': 14})\n",
    "    ax.tick_params(axis='y', labelsize=15)\n",
    "    ax.set_title('Gluconeogenic compounds in glycolysis, PPP, and TCA', size=25)\n",
    "    fig.tight_layout()\n",
    "    fig"
   ]
  },
  {
   "cell_type": "code",
   "execution_count": 11,
   "metadata": {},
   "outputs": [
    {
     "name": "stderr",
     "output_type": "stream",
     "text": [
      "Could not identify an external compartment by name and choosing one with the most boundary reactions. That might be complete nonsense or change suddenly. Consider renaming your compartments using `Model.compartments` to fix this.\n"
     ]
    },
    {
     "data": {
      "image/png": "[encoded data removed]",
      "text/plain": [
       "<Figure size 900x360 with 2 Axes>"
      ]
     },
     "metadata": {
      "needs_background": "light"
     },
     "output_type": "display_data"
    }
   ],
   "source": [
    "glc_per_mol = pd.DataFrame()\n",
    "model = model_cons.copy()\n",
    "model.add_boundary(model.metabolites.g6p_c)\n",
    "model.reactions.EX_g6p_c.lower_bound = 0\n",
    "model.reactions.EX_glc__D_c.lower_bound = 0\n",
    "for m in model.metabolites:\n",
    "    if m.elements.get('C', 0) == 0:\n",
    "        continue\n",
    "    with model:\n",
    "\n",
    "        if 'EX_' + m.id in model.reactions:\n",
    "            pass\n",
    "        else:\n",
    "            r = cobra.Reaction('EX_' + m.id)\n",
    "            model.add_reactions([r])\n",
    "            r.build_reaction_from_string(m.id + '->')\n",
    "        model.reactions.get_by_id('EX_' + m.id).lower_bound = -1\n",
    "        model.objective = 'EX_g6p_c'\n",
    "        sol = cobra.flux_analysis.pfba(model)\n",
    "            \n",
    "        if sol.objective_value == 0:\n",
    "            continue\n",
    "        mol_c_substrate = m.elements['C'] \n",
    "        mol_glc_per_mol = sol.fluxes['EX_g6p_c'] * 6 / mol_c_substrate\n",
    "\n",
    "        glc_per_mol.loc[m.id, 'g6p yield'] = mol_glc_per_mol\n",
    "        glc_per_mol.loc[m.id, 'MALtm'] = abs(sol.fluxes['MALtm'])\n",
    "        glc_per_mol.loc[m.id, 'PEPtm'] = sol.fluxes['PEPtm']\n",
    "\n",
    "glc_per_mol = glc_per_mol.sort_values(by='g6p yield')\n",
    "\n",
    "plot_carbon_yield(glc_per_mol)"
   ]
  },
  {
   "cell_type": "markdown",
   "metadata": {},
   "source": [
    "### 2) Common pitfalls: neglecting metabolite transport\n",
    "\n",
    "Iterate through all reactions:\n",
    "\n",
    "1. check if reactions is mitchondrial transport  using `mitochondrial_exchange`\n",
    "\n",
    "2. if reaction is transporter, knock out\n",
    "\n",
    "3. optimize for ATP synthesis\n",
    "\n",
    "4. store results in dataframe and plot as bar plot"
   ]
  },
  {
   "cell_type": "code",
   "execution_count": 12,
   "metadata": {},
   "outputs": [],
   "source": [
    "model = model_cons.copy()\n",
    "def mitochondrial_exchange(reaction):\n",
    "    cytosolic = False\n",
    "    mitochondrial = False\n",
    "    for m in reaction.metabolites:\n",
    "        if m.id[-2:] == '_c':\n",
    "            cytosolic = True\n",
    "        if m.id[-2:] == '_m':\n",
    "            mitochondrial = True\n",
    "    # If reaction contains both mitochondrial and\n",
    "    # cytosolic metabolite, return True\n",
    "    if cytosolic and mitochondrial:\n",
    "        return True\n",
    "    else:\n",
    "        return False\n",
    "\n",
    "out = pd.DataFrame()\n",
    "flux = model.optimize().objective_value\n",
    "out.loc['All Transport', 'ATPM'] = flux\n",
    "for r in model.reactions:\n",
    "    with model:\n",
    "        if mitochondrial_exchange(r):\n",
    "            r.knock_out()\n",
    "            flux = model.optimize().objective_value\n",
    "            out.loc[r.id, 'ATPM'] = flux"
   ]
  },
  {
   "cell_type": "code",
   "execution_count": 13,
   "metadata": {
    "jupyter": {
     "outputs_hidden": true
    },
    "scrolled": true
   },
   "outputs": [
    {
     "data": {
      "text/plain": [
       "Text(0.5, 0, 'Transport reaction knocked out')"
      ]
     },
     "execution_count": 13,
     "metadata": {},
     "output_type": "execute_result"
    },
    {
     "data": {
      "image/png": "[encoded data removed]",
      "text/plain": [
       "<Figure size 432x288 with 1 Axes>"
      ]
     },
     "metadata": {
      "needs_background": "light"
     },
     "output_type": "display_data"
    }
   ],
   "source": [
    "ax = out.sort_values(\"ATPM\").plot(kind='bar')\n",
    "ax.set_ylabel('ATPM flux')\n",
    "ax.set_xlabel('Transport reaction knocked out')"
   ]
  },
  {
   "cell_type": "code",
   "execution_count": null,
   "metadata": {},
   "outputs": [],
   "source": []
  }
 ],
 "metadata": {
  "kernelspec": {
   "display_name": "fba4l",
   "language": "python",
   "name": "fba4l"
  },
  "language_info": {
   "codemirror_mode": {
    "name": "ipython",
    "version": 3
   },
   "file_extension": ".py",
   "mimetype": "text/x-python",
   "name": "python",
   "nbconvert_exporter": "python",
   "pygments_lexer": "ipython3",
   "version": "3.9.20"
  }
 },
 "nbformat": 4,
 "nbformat_minor": 4
}
